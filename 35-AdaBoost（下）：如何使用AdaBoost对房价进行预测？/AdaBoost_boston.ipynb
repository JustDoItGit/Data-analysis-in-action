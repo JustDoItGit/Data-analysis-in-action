{
 "cells": [
  {
   "cell_type": "markdown",
   "metadata": {},
   "source": [
    "### 使用AdaBoost回归预测"
   ]
  },
  {
   "cell_type": "code",
   "execution_count": 1,
   "metadata": {},
   "outputs": [],
   "source": [
    "from sklearn.model_selection import train_test_split\n",
    "from sklearn.metrics import mean_squared_error\n",
    "from sklearn.datasets import load_boston\n",
    "from sklearn.ensemble import AdaBoostRegressor"
   ]
  },
  {
   "cell_type": "code",
   "execution_count": 2,
   "metadata": {},
   "outputs": [],
   "source": [
    "# 加载数据\n",
    "data = load_boston()"
   ]
  },
  {
   "cell_type": "code",
   "execution_count": 3,
   "metadata": {},
   "outputs": [],
   "source": [
    "# 分割数据\n",
    "train_x, test_x, train_y, test_y = train_test_split(\n",
    "    data.data, data.target, test_size=0.25, random_state=33)"
   ]
  },
  {
   "cell_type": "code",
   "execution_count": 4,
   "metadata": {},
   "outputs": [],
   "source": [
    "# 使用AdaBoost回归模型\n",
    "regressor = AdaBoostRegressor()"
   ]
  },
  {
   "cell_type": "code",
   "execution_count": 5,
   "metadata": {},
   "outputs": [
    {
     "data": {
      "text/plain": [
       "AdaBoostRegressor(base_estimator=None, learning_rate=1.0, loss='linear',\n",
       "                  n_estimators=50, random_state=None)"
      ]
     },
     "execution_count": 5,
     "metadata": {},
     "output_type": "execute_result"
    }
   ],
   "source": [
    "regressor.fit(train_x, train_y)"
   ]
  },
  {
   "cell_type": "code",
   "execution_count": 6,
   "metadata": {},
   "outputs": [],
   "source": [
    "pred_y = regressor.predict(test_x)"
   ]
  },
  {
   "cell_type": "code",
   "execution_count": 7,
   "metadata": {},
   "outputs": [
    {
     "name": "stdout",
     "output_type": "stream",
     "text": [
      "房价预测结果 [19.73428571 11.04363636 14.25098039 17.77391304 24.77607656 22.49268293\n",
      " 28.23794872 17.92928177 31.07777778 19.6116129  31.51384615 32.46666667\n",
      " 11.75087719 24.64228188 13.03098592 24.77607656 17.77391304 16.81081081\n",
      " 28.23794872 25.15863874 17.33882353 17.77391304 17.77391304 18.18341232\n",
      " 31.92333333 17.28045977 22.49268293 24.77607656 11.75087719 31.46041667\n",
      " 17.33882353 25.48478261 10.51282051 20.84210526 26.08762376 31.07777778\n",
      " 25.15863874 11.75087719 13.55925926 25.06138614 15.54494382 13.03098592\n",
      " 30.58387097 17.33882353 26.08762376 18.29545455 17.77391304 19.46266667\n",
      " 25.25363128 19.47272727 17.28045977 33.56282051 15.88181818 17.09\n",
      " 24.77607656 20.67181818 24.54505495 16.36181818 25.15863874 22.90852273\n",
      " 18.63561644 16.36181818 44.95185185 20.8779661  16.63030303 25.48478261\n",
      " 25.06138614 11.75087719 18.46460674 27.79485981 23.14038462 18.18341232\n",
      " 17.57297297 27.17294686 18.70212766 46.55714286 15.5627451  11.40526316\n",
      " 16.63030303 24.64228188 19.92272727 15.14545455 13.3704918  24.77607656\n",
      " 20.15454545 20.84210526 47.28139535 16.81081081 44.68888889 32.74029851\n",
      " 30.15119048 18.46460674 18.70212766 15.88284024 16.7        33.56282051\n",
      " 24.77607656 24.08159509 18.14926829 18.14926829 16.6        19.6116129\n",
      " 27.12920354 25.06138614 12.35555556 15.88181818 12.40307692 26.08762376\n",
      " 12.40307692 25.4787037  50.         13.03098592 17.77391304 24.64228188\n",
      " 31.584      24.54505495 20.80512821 20.80512821 27.24533333 20.02\n",
      " 20.13476395 17.77391304 12.40307692 20.67181818 20.84210526 16.63030303\n",
      " 43.31428571]\n",
      "均方误差 = 17.8\n"
     ]
    }
   ],
   "source": [
    "mse = mean_squared_error(test_y, pred_y)\n",
    "print(f'房价预测结果 {pred_y}')\n",
    "print(f'均方误差 = {round(mse, 2)}')"
   ]
  },
  {
   "cell_type": "markdown",
   "metadata": {},
   "source": [
    "### 使用决策树预测"
   ]
  },
  {
   "cell_type": "code",
   "execution_count": 8,
   "metadata": {},
   "outputs": [],
   "source": [
    "from sklearn.tree import DecisionTreeRegressor"
   ]
  },
  {
   "cell_type": "code",
   "execution_count": 9,
   "metadata": {},
   "outputs": [
    {
     "name": "stdout",
     "output_type": "stream",
     "text": [
      "决策树军方误差 = 36.92\n"
     ]
    }
   ],
   "source": [
    "dec_regressor = DecisionTreeRegressor()\n",
    "dec_regressor.fit(train_x, train_y)\n",
    "pred_y = dec_regressor.predict(test_x)\n",
    "mse = mean_squared_error(test_y, pred_y)\n",
    "print(f'决策树军方误差 = {round(mse, 2)}')"
   ]
  },
  {
   "cell_type": "markdown",
   "metadata": {},
   "source": [
    "### 使用KNN回归模型"
   ]
  },
  {
   "cell_type": "code",
   "execution_count": 10,
   "metadata": {},
   "outputs": [],
   "source": [
    "from sklearn.neighbors import KNeighborsRegressor"
   ]
  },
  {
   "cell_type": "code",
   "execution_count": 11,
   "metadata": {},
   "outputs": [
    {
     "name": "stdout",
     "output_type": "stream",
     "text": [
      "KNN均方误差 = 27.87\n"
     ]
    }
   ],
   "source": [
    "knn_regresson = KNeighborsRegressor()\n",
    "knn_regresson.fit(train_x, train_y)\n",
    "pred_y = knn_regresson.predict(test_x)\n",
    "mse = mean_squared_error(test_y, pred_y)\n",
    "print(f'KNN均方误差 = {round(mse, 2)}')"
   ]
  }
 ],
 "metadata": {
  "kernelspec": {
   "display_name": "Python 3",
   "language": "python",
   "name": "python3"
  },
  "language_info": {
   "codemirror_mode": {
    "name": "ipython",
    "version": 3
   },
   "file_extension": ".py",
   "mimetype": "text/x-python",
   "name": "python",
   "nbconvert_exporter": "python",
   "pygments_lexer": "ipython3",
   "version": "3.6.8"
  },
  "toc": {
   "base_numbering": 1,
   "nav_menu": {
    "height": "297px",
    "width": "160px"
   },
   "number_sections": true,
   "sideBar": true,
   "skip_h1_title": false,
   "title_cell": "Table of Contents",
   "title_sidebar": "Contents",
   "toc_cell": false,
   "toc_position": {},
   "toc_section_display": true,
   "toc_window_display": true
  }
 },
 "nbformat": 4,
 "nbformat_minor": 4
}
